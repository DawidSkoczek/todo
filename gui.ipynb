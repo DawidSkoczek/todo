{
 "cells": [
  {
   "cell_type": "code",
   "execution_count": 17,
   "metadata": {},
   "outputs": [],
   "source": [
    "import functions\n",
    "\n",
    "import PySimpleGUI as sg\n",
    "\n",
    "label = sg.Text('Type in a to-do')\n",
    "input_box = sg.InputText(tooltip='Enter todo')\n",
    "add_button = sg.Button('Add')\n",
    "\n",
    "winodw = sg.Window('My To-Do App', layout=[[label], [input_box, add_button]])\n",
    "\n",
    "winodw.read()\n",
    "winodw.close()"
   ]
  },
  {
   "cell_type": "code",
   "execution_count": null,
   "metadata": {},
   "outputs": [],
   "source": []
  }
 ],
 "metadata": {
  "kernelspec": {
   "display_name": "base",
   "language": "python",
   "name": "python3"
  },
  "language_info": {
   "codemirror_mode": {
    "name": "ipython",
    "version": 3
   },
   "file_extension": ".py",
   "mimetype": "text/x-python",
   "name": "python",
   "nbconvert_exporter": "python",
   "pygments_lexer": "ipython3",
   "version": "3.11.5"
  }
 },
 "nbformat": 4,
 "nbformat_minor": 2
}
