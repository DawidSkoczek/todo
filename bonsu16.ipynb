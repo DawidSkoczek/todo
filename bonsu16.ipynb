{
 "cells": [
  {
   "cell_type": "code",
   "execution_count": 1,
   "metadata": {},
   "outputs": [
    {
     "name": "stdout",
     "output_type": "stream",
     "text": [
      "Compress {0: 'C:/Users/dawid/Desktop/25 mapa.pdf', 'files': 'C:/Users/dawid/Desktop/25 mapa.pdf', 1: 'C:/Users/dawid/Desktop', 'folder': 'C:/Users/dawid/Desktop'}\n",
      "None None\n"
     ]
    },
    {
     "ename": "TypeError",
     "evalue": "'NoneType' object is not subscriptable",
     "output_type": "error",
     "traceback": [
      "\u001b[1;31m---------------------------------------------------------------------------\u001b[0m",
      "\u001b[1;31mTypeError\u001b[0m                                 Traceback (most recent call last)",
      "Cell \u001b[1;32mIn[1], line 23\u001b[0m\n\u001b[0;32m     21\u001b[0m event, values \u001b[38;5;241m=\u001b[39m window\u001b[38;5;241m.\u001b[39mread()\n\u001b[0;32m     22\u001b[0m \u001b[38;5;28mprint\u001b[39m(event, values)\n\u001b[1;32m---> 23\u001b[0m filepaths \u001b[38;5;241m=\u001b[39m values[\u001b[38;5;124m'\u001b[39m\u001b[38;5;124mfiles\u001b[39m\u001b[38;5;124m'\u001b[39m]\u001b[38;5;241m.\u001b[39msplit(\u001b[38;5;124m'\u001b[39m\u001b[38;5;124m;\u001b[39m\u001b[38;5;124m'\u001b[39m)\n\u001b[0;32m     24\u001b[0m folder \u001b[38;5;241m=\u001b[39m values[\u001b[38;5;124m\"\u001b[39m\u001b[38;5;124mfolder\u001b[39m\u001b[38;5;124m\"\u001b[39m]\n\u001b[0;32m     25\u001b[0m make_archive(filepaths, folder)\n",
      "\u001b[1;31mTypeError\u001b[0m: 'NoneType' object is not subscriptable"
     ]
    }
   ],
   "source": [
    "import PySimpleGUI as sg\n",
    "from zip_creator import make_archive\n",
    "\n",
    "label1 = sg.Text('select files to compress: ')\n",
    "input1 = sg.Input()\n",
    "chose_button1 = sg.FilesBrowse('Choose', key='files')\n",
    "\n",
    "label2 = sg.Text('select destination folder: ')\n",
    "input2 = sg.Input()\n",
    "chose_button2 = sg.FolderBrowse('Choose', key='folder')\n",
    "output = sg.Text(key='output')\n",
    "\n",
    "\n",
    "compress_button = sg.Button('Compress')\n",
    "window = sg.Window('File Compresor',\n",
    "                   layout=[[label1,input1,chose_button1],\n",
    "                           [label2,input2,chose_button2],\n",
    "                           [compress_button,output]])\n",
    "\n",
    "while True:\n",
    "    event, values = window.read()\n",
    "    print(event, values)\n",
    "    filepaths = values['files'].split(';')\n",
    "    folder = values[\"folder\"]\n",
    "    make_archive(filepaths, folder)\n",
    "    window['output'].update(value='Compression completed')\n",
    "window.close()"
   ]
  },
  {
   "cell_type": "markdown",
   "metadata": {},
   "source": []
  }
 ],
 "metadata": {
  "kernelspec": {
   "display_name": "base",
   "language": "python",
   "name": "python3"
  },
  "language_info": {
   "codemirror_mode": {
    "name": "ipython",
    "version": 3
   },
   "file_extension": ".py",
   "mimetype": "text/x-python",
   "name": "python",
   "nbconvert_exporter": "python",
   "pygments_lexer": "ipython3",
   "version": "3.11.5"
  }
 },
 "nbformat": 4,
 "nbformat_minor": 2
}
