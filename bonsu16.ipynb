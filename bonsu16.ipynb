{
 "cells": [
  {
   "cell_type": "code",
   "execution_count": 4,
   "metadata": {},
   "outputs": [],
   "source": [
    "import PySimpleGUI as sg\n",
    "\n",
    "label1 = sg.Text('select files to compress: ')\n",
    "input1 = sg.Input()\n",
    "chose_button1 = sg.FilesBrowse('Choose')\n",
    "\n",
    "label2 = sg.Text('select destination folder: ')\n",
    "input2 = sg.Input()\n",
    "chose_button2 = sg.FolderBrowse('Choose')\n",
    "\n",
    "\n",
    "compress_button = sg.Button('Compress')\n",
    "window = sg.Window('File Compresor',\n",
    "                   layout=[[label1,input1,chose_button1],\n",
    "                           [label2,input2,chose_button2],\n",
    "                           [compress_button]])\n",
    "\n",
    "window.read()\n",
    "window.close()"
   ]
  },
  {
   "cell_type": "markdown",
   "metadata": {},
   "source": []
  },
  {
   "cell_type": "code",
   "execution_count": 5,
   "metadata": {},
   "outputs": [],
   "source": []
  },
  {
   "cell_type": "code",
   "execution_count": null,
   "metadata": {},
   "outputs": [],
   "source": []
  }
 ],
 "metadata": {
  "kernelspec": {
   "display_name": "base",
   "language": "python",
   "name": "python3"
  },
  "language_info": {
   "codemirror_mode": {
    "name": "ipython",
    "version": 3
   },
   "file_extension": ".py",
   "mimetype": "text/x-python",
   "name": "python",
   "nbconvert_exporter": "python",
   "pygments_lexer": "ipython3",
   "version": "3.11.5"
  }
 },
 "nbformat": 4,
 "nbformat_minor": 2
}
