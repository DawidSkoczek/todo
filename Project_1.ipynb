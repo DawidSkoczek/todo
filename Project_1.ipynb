{
 "cells": [
  {
   "cell_type": "code",
   "execution_count": 1,
   "metadata": {},
   "outputs": [
    {
     "name": "stdout",
     "output_type": "stream",
     "text": [
      "It is  Mar, 11, 2024, 19:03:35\n",
      "Command is not valid\n",
      "Bye!\n"
     ]
    }
   ],
   "source": [
    "import time\n",
    "from functions import get_todos, write_todos\n",
    "\n",
    "\n",
    "\n",
    "now = time.strftime('%b, %d, %Y, %H:%M:%S')\n",
    "print('It is ', now)\n",
    "\n",
    "while True:\n",
    "    user_action = input('typer add or show, edit, complete or exit: ')\n",
    "    user_action = user_action.strip()\n",
    "\n",
    "    if user_action.startswith('add'):\n",
    "        todo = user_action[4:]\n",
    "\n",
    "        todos = get_todos()\n",
    "                \n",
    "        todos.append(todo+'\\n')\n",
    "\n",
    "        write_todos(todos, 'todos.txt')\n",
    "\n",
    "    elif user_action.startswith('show'):\n",
    "\n",
    "        todos = get_todos()\n",
    "\n",
    "        for index, item in enumerate(todos):\n",
    "            row = f'{index+1}-{item}'\n",
    "            print(row.strip('\\n'))\n",
    "\n",
    "            \n",
    "    elif user_action.startswith('edit'):\n",
    "        try:\n",
    "            index = int(user_action[5:]) - 1\n",
    "\n",
    "            todos = get_todos()\n",
    "\n",
    "            new_to_do = input('enter the new todo').strip()\n",
    "            todos[index] = new_to_do + '\\n'\n",
    "                \n",
    "            write_todos(todos, 'todos.txt')\n",
    "        \n",
    "        except ValueError:\n",
    "            print('Your command is not valid')\n",
    "            continue\n",
    "\n",
    "\n",
    "    \n",
    "    elif user_action.startswith('complete'): \n",
    "        try:\n",
    "            index = int(user_action[9:]) - 1\n",
    "\n",
    "            todos = get_todos()\n",
    "            \n",
    "            todo_to_remove = todos[index].strip('\\n')\n",
    "\n",
    "            todos.pop(index)\n",
    "\n",
    "            write_todos(todos, 'todos.txt')\n",
    "                \n",
    "            message = f\"Todo number {todo_to_remove} has been deleted\"\n",
    "            print(message)\n",
    "\n",
    "        except IndexError:\n",
    "            print('There is no item with that number!')\n",
    "            continue\n",
    "    \n",
    "\n",
    "    elif user_action.startswith('exit'):\n",
    "        break\n",
    "\n",
    "\n",
    "    else :\n",
    "         print('Command is not valid')\n",
    "\n",
    "print('Bye!')\n"
   ]
  },
  {
   "cell_type": "code",
   "execution_count": 2,
   "metadata": {},
   "outputs": [
    {
     "name": "stdout",
     "output_type": "stream",
     "text": [
      "[{'question_txt': 'wahet are dolphisns', 'alternatives': ['Amphibians', 'Fish', 'Mammals'], 'correct_amswer': 3}, {'question_txt': 'wahet ocuppates most of erth surface', 'alternatives': ['land', 'wather'], 'correct_amswer': 2}]\n",
      "wahet are dolphisns\n",
      "1 - Amphibians\n",
      "2 - Fish\n",
      "3 - Mammals\n"
     ]
    },
    {
     "ename": "ValueError",
     "evalue": "invalid literal for int() with base 10: 'exit'",
     "output_type": "error",
     "traceback": [
      "\u001b[1;31m---------------------------------------------------------------------------\u001b[0m",
      "\u001b[1;31mValueError\u001b[0m                                Traceback (most recent call last)",
      "Cell \u001b[1;32mIn[2], line 14\u001b[0m\n\u001b[0;32m     12\u001b[0m     \u001b[38;5;28;01mfor\u001b[39;00m index, alternative \u001b[38;5;129;01min\u001b[39;00m \u001b[38;5;28menumerate\u001b[39m(question[\u001b[38;5;124m'\u001b[39m\u001b[38;5;124malternatives\u001b[39m\u001b[38;5;124m'\u001b[39m]):\n\u001b[0;32m     13\u001b[0m         \u001b[38;5;28mprint\u001b[39m(index\u001b[38;5;241m+\u001b[39m\u001b[38;5;241m1\u001b[39m, \u001b[38;5;124m'\u001b[39m\u001b[38;5;124m-\u001b[39m\u001b[38;5;124m'\u001b[39m, alternative)\n\u001b[1;32m---> 14\u001b[0m     user_choince \u001b[38;5;241m=\u001b[39m \u001b[38;5;28mint\u001b[39m(\u001b[38;5;28minput\u001b[39m(\u001b[38;5;124m'\u001b[39m\u001b[38;5;124manswer\u001b[39m\u001b[38;5;124m'\u001b[39m))\n\u001b[0;32m     15\u001b[0m     question[\u001b[38;5;124m\"\u001b[39m\u001b[38;5;124muser_choince\u001b[39m\u001b[38;5;124m\"\u001b[39m] \u001b[38;5;241m=\u001b[39m user_choince\n\u001b[0;32m     18\u001b[0m score \u001b[38;5;241m=\u001b[39m \u001b[38;5;241m0\u001b[39m \n",
      "\u001b[1;31mValueError\u001b[0m: invalid literal for int() with base 10: 'exit'"
     ]
    }
   ],
   "source": [
    "import json\n",
    "\n",
    "with open('questions.json','r') as file:\n",
    "    content = file.read()\n",
    "\n",
    "data = json.loads(content)\n",
    "print(data)\n",
    "\n",
    "\n",
    "for question in data:\n",
    "    print(question['question_txt'])\n",
    "    for index, alternative in enumerate(question['alternatives']):\n",
    "        print(index+1, '-', alternative)\n",
    "    user_choince = int(input('answer'))\n",
    "    question[\"user_choince\"] = user_choince\n",
    "\n",
    "\n",
    "score = 0 \n",
    "\n",
    "\n",
    "for index, question in enumerate(data):\n",
    "    if question['user_choince'] == question['correct_amswer']:\n",
    "        score += 1 \n",
    "        result = 'Correct answer'\n",
    "    else:\n",
    "        result = 'Wrong answer'\n",
    "\n",
    "\n",
    "    message = f\" {result} {index+1} - Your answer: {question['user_choince']}, Corret answer is {question['correct_amswer']}\"\n",
    "    print(message)\n",
    "\n",
    "print(data)\n",
    "print(score, '/', len(data))"
   ]
  },
  {
   "cell_type": "code",
   "execution_count": 3,
   "metadata": {},
   "outputs": [
    {
     "name": "stdout",
     "output_type": "stream",
     "text": [
      "1 Add\n",
      "2 {'todo': '111', 'todos': []}\n",
      "3 []\n",
      "1 todos\n",
      "2 {'todo': '111', 'todos': ['111\\n']}\n",
      "3 ['111\\n']\n",
      "1 todos\n",
      "2 {'todo': '111\\n', 'todos': ['111\\n']}\n",
      "3 ['111\\n']\n",
      "1 Add\n",
      "2 {'todo': '222', 'todos': ['111\\n']}\n",
      "3 ['111\\n']\n",
      "1 None\n",
      "2 None\n"
     ]
    },
    {
     "ename": "TypeError",
     "evalue": "'NoneType' object is not subscriptable",
     "output_type": "error",
     "traceback": [
      "\u001b[1;31m---------------------------------------------------------------------------\u001b[0m",
      "\u001b[1;31mTypeError\u001b[0m                                 Traceback (most recent call last)",
      "Cell \u001b[1;32mIn[3], line 22\u001b[0m\n\u001b[0;32m     20\u001b[0m     \u001b[38;5;28mprint\u001b[39m(\u001b[38;5;241m1\u001b[39m, event)\n\u001b[0;32m     21\u001b[0m     \u001b[38;5;28mprint\u001b[39m(\u001b[38;5;241m2\u001b[39m, values)\n\u001b[1;32m---> 22\u001b[0m     \u001b[38;5;28mprint\u001b[39m(\u001b[38;5;241m3\u001b[39m, values[\u001b[38;5;124m'\u001b[39m\u001b[38;5;124mtodos\u001b[39m\u001b[38;5;124m'\u001b[39m])\n\u001b[0;32m     23\u001b[0m     \u001b[38;5;28;01mmatch\u001b[39;00m event:\n\u001b[0;32m     24\u001b[0m         \u001b[38;5;28;01mcase\u001b[39;00m \u001b[38;5;124m\"\u001b[39m\u001b[38;5;124mAdd\u001b[39m\u001b[38;5;124m\"\u001b[39m:\n\u001b[0;32m     25\u001b[0m             todos \u001b[38;5;241m=\u001b[39m get_todos()\n\u001b[1;32m   (...)\u001b[0m\n\u001b[0;32m     43\u001b[0m         \u001b[38;5;28;01mcase\u001b[39;00m sg\u001b[38;5;241m.\u001b[39mWIN_CLOSED:\n\u001b[0;32m     44\u001b[0m             \u001b[38;5;28;01mbreak\u001b[39;00m\n\u001b[0;32m     46\u001b[0m winodw\u001b[38;5;241m.\u001b[39mclose()\n",
      "\u001b[1;31mTypeError\u001b[0m: 'NoneType' object is not subscriptable"
     ]
    }
   ],
   "source": [
    "import PySimpleGUI as sg\n",
    "from functions import get_todos, write_todos\n",
    "\n",
    "label = sg.Text(\"Type in to-do\")\n",
    "input_box = sg.InputText(tooltip=\"Enter todo\", key='todo')\n",
    "add_button = sg.Button(\"Add\")\n",
    "list_box = sg.Listbox(values=get_todos(), key = 'todos',\n",
    "                      enable_events=True, size=[45,10])\n",
    "\n",
    "edit_buton = sg.Button(\"Edit\")\n",
    "\n",
    "winodw = sg.Window('My To-Do App', \n",
    "                   layout=[[label], [input_box, add_button],\n",
    "                           [list_box, edit_buton]],\n",
    "                   font=(\"Helvetica\", 10))\n",
    "\n",
    "\n",
    "while True:\n",
    "    event, values = winodw.read()\n",
    "    print(1, event)\n",
    "    print(2, values)\n",
    "    print(3, values['todos'])\n",
    "    \n",
    "    match event:\n",
    "        case \"Add\":\n",
    "            todos = get_todos()\n",
    "            new_to_do = values['todo'] + \"\\n\"\n",
    "            todos.append(new_to_do)\n",
    "            write_todos(todos)\n",
    "            winodw['todos'].update(values=todos)\n",
    "        \n",
    "        case \"Edit\":\n",
    "            todo_to_edit = values['todos'][0]\n",
    "            new_to_do = values['todo']\n",
    "            todos = get_todos()\n",
    "            index = todos.index(todo_to_edit)\n",
    "            todos[index] = new_to_do\n",
    "            write_todos(todos)\n",
    "            winodw['todos'].update(values=todos)\n",
    "\n",
    "        case 'todos':\n",
    "            winodw['todo'].update(value=values['todos'][0])\n",
    "\n",
    "        case sg.WIN_CLOSED:\n",
    "            break\n",
    "\n",
    "winodw.close()"
   ]
  },
  {
   "cell_type": "code",
   "execution_count": null,
   "metadata": {},
   "outputs": [],
   "source": [
    "a"
   ]
  }
 ],
 "metadata": {
  "kernelspec": {
   "display_name": "base",
   "language": "python",
   "name": "python3"
  },
  "language_info": {
   "codemirror_mode": {
    "name": "ipython",
    "version": 3
   },
   "file_extension": ".py",
   "mimetype": "text/x-python",
   "name": "python",
   "nbconvert_exporter": "python",
   "pygments_lexer": "ipython3",
   "version": "3.11.5"
  }
 },
 "nbformat": 4,
 "nbformat_minor": 2
}
